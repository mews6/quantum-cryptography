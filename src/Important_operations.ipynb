{
 "cells": [
  {
   "cell_type": "code",
   "execution_count": 15,
   "metadata": {},
   "outputs": [],
   "source": [
    "from qiskit import QuantumRegister, QuantumCircuit, assemble\n",
    "from qiskit.quantum_info import Statevector, Operator\n",
    "from math import pi, sqrt # you'll need this\n",
    "from qiskit_aer import Aer"
   ]
  },
  {
   "cell_type": "markdown",
   "metadata": {},
   "source": [
    "## Get statevector out of circuit"
   ]
  },
  {
   "cell_type": "code",
   "execution_count": 16,
   "metadata": {},
   "outputs": [
    {
     "name": "stdout",
     "output_type": "stream",
     "text": [
      "Statevector([ 0.+0.j, -1.+0.j],\n",
      "            dims=(2,))\n"
     ]
    }
   ],
   "source": [
    "def getStateVector():\n",
    "    \"\"\" \n",
    "\n",
    "    \"\"\"\n",
    "\n",
    "    qr=QuantumRegister(1)\n",
    "    qc=QuantumCircuit(qr)\n",
    "\n",
    "    #Insert your operations here\n",
    "\n",
    "    qc.x(qr[0])\n",
    "    qc.z(qr[0])\n",
    "\n",
    "    return Statevector.from_instruction(qc) \n",
    "\n",
    "print(getStateVector())"
   ]
  },
  {
   "cell_type": "markdown",
   "metadata": {},
   "source": [
    "## Get Unitary Matrix of a circuit"
   ]
  },
  {
   "cell_type": "code",
   "execution_count": 19,
   "metadata": {},
   "outputs": [
    {
     "name": "stdout",
     "output_type": "stream",
     "text": [
      "Operator([[ 0.+0.j,  1.+0.j],\n",
      "          [-1.+0.j,  0.+0.j]],\n",
      "         input_dims=(2,), output_dims=(2,))\n"
     ]
    }
   ],
   "source": [
    "def getUnitaryMatrix():\n",
    "    \"\"\" \n",
    "\n",
    "    \"\"\"\n",
    "\n",
    "    qr=QuantumRegister(1)\n",
    "    qc=QuantumCircuit(qr)\n",
    "\n",
    "    #Insert your operations here\n",
    "\n",
    "    qc.x(qr[0])\n",
    "    qc.z(qr[0])\n",
    "\n",
    "    circOp = Operator.from_circuit(qc)\n",
    "    print(circOp)\n",
    "\n",
    "getUnitaryMatrix()"
   ]
  },
  {
   "cell_type": "markdown",
   "metadata": {},
   "source": [
    "## Get Probability of measure"
   ]
  },
  {
   "cell_type": "code",
   "execution_count": 21,
   "metadata": {},
   "outputs": [
    {
     "name": "stdout",
     "output_type": "stream",
     "text": [
      "[0.5 0.5]\n"
     ]
    }
   ],
   "source": [
    "def getProbability():\n",
    "    #Change the states alpha and beta here\n",
    "    initial_state = [1/sqrt(2), 1j/sqrt(2)]  # Define state |q_0>\n",
    "    \n",
    "    qr = QuantumRegister(1)\n",
    "    qc = QuantumCircuit(qr)\n",
    "    qc.initialize(initial_state, 0)\n",
    "    print(Statevector.from_instruction(qc).probabilities())\n",
    "\n",
    "getProbability()"
   ]
  }
 ],
 "metadata": {
  "kernelspec": {
   "display_name": "Python 3",
   "language": "python",
   "name": "python3"
  },
  "language_info": {
   "codemirror_mode": {
    "name": "ipython",
    "version": 3
   },
   "file_extension": ".py",
   "mimetype": "text/x-python",
   "name": "python",
   "nbconvert_exporter": "python",
   "pygments_lexer": "ipython3",
   "version": "3.11.9"
  }
 },
 "nbformat": 4,
 "nbformat_minor": 2
}
