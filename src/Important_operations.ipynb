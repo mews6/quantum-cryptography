{
 "cells": [
  {
   "cell_type": "code",
   "execution_count": null,
   "metadata": {},
   "outputs": [],
   "source": [
    "from qiskit import QuantumRegister, QuantumCircuit, Statevector\n",
    "import qiskit_aer"
   ]
  },
  {
   "cell_type": "markdown",
   "metadata": {},
   "source": [
    "## Get statevector out of circuit"
   ]
  },
  {
   "cell_type": "code",
   "execution_count": null,
   "metadata": {},
   "outputs": [],
   "source": [
    "def getStateVector():\n",
    "    \"\"\" \n",
    "\n",
    "    \"\"\"\n",
    "\n",
    "    qr=QuantumRegister(1)\n",
    "    qc=QuantumCircuit(qr)\n",
    "\n",
    "    #Insert your operations here\n",
    "\n",
    "    qc.x(qr[0])\n",
    "    qc.z(qr[0])\n",
    "\n",
    "    return Statevector.from_instruction(qc) "
   ]
  },
  {
   "cell_type": "markdown",
   "metadata": {},
   "source": [
    "## Get Unitary Matrix of a circuit"
   ]
  },
  {
   "cell_type": "code",
   "execution_count": null,
   "metadata": {},
   "outputs": [],
   "source": [
    "def getUnitaryMatrix():\n",
    "    \"\"\" \n",
    "\n",
    "    \"\"\"\n",
    "\n",
    "    qr=QuantumRegister(1)\n",
    "    qc=QuantumCircuit(qr)\n",
    "\n",
    "    #Insert your operations here\n",
    "\n",
    "    qc.x(qr[0])\n",
    "    qc.z(qr[0])\n",
    "\n",
    "    return Statevector.from_instruction(qc) \n",
    "\n",
    "print(getUnitaryMatrix())"
   ]
  }
 ],
 "metadata": {
  "kernelspec": {
   "display_name": "Python 3",
   "language": "python",
   "name": "python3"
  },
  "language_info": {
   "name": "python",
   "version": "3.11.9"
  }
 },
 "nbformat": 4,
 "nbformat_minor": 2
}
