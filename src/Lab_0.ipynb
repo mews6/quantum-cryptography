{
  "cells": [
    {
      "cell_type": "code",
      "execution_count": null,
      "metadata": {
        "colab": {
          "base_uri": "https://localhost:8080/"
        },
        "id": "CodJYqS68xZc",
        "outputId": "72593803-05b4-4fa1-b465-47b8315c6265"
      },
      "outputs": [],
      "source": [
        "!pip install qiskit==0.46.2\n",
        "!pip install qiskit-aer\n",
        "import qiskit\n",
        "print(qiskit.__version__)"
      ]
    },
    {
      "cell_type": "code",
      "execution_count": 54,
      "metadata": {
        "colab": {
          "base_uri": "https://localhost:8080/"
        },
        "id": "caTRBY7JU3if",
        "outputId": "ac6e7346-5ee0-4f71-f1a1-be63ac220ec7"
      },
      "outputs": [
        {
          "name": "stdout",
          "output_type": "stream",
          "text": [
            "        ┌───┐┌─┐                     \n",
            "q144_0: ┤ H ├┤M├─────────────────────\n",
            "        ├───┤└╥┘┌─┐                  \n",
            "q144_1: ┤ H ├─╫─┤M├──────────────────\n",
            "        ├───┤ ║ └╥┘┌─┐               \n",
            "q144_2: ┤ H ├─╫──╫─┤M├───────────────\n",
            "        ├───┤ ║  ║ └╥┘┌─┐            \n",
            "q144_3: ┤ H ├─╫──╫──╫─┤M├────────────\n",
            "        ├───┤ ║  ║  ║ └╥┘┌─┐         \n",
            "q144_4: ┤ H ├─╫──╫──╫──╫─┤M├─────────\n",
            "        ├───┤ ║  ║  ║  ║ └╥┘┌─┐      \n",
            "q144_5: ┤ H ├─╫──╫──╫──╫──╫─┤M├──────\n",
            "        ├───┤ ║  ║  ║  ║  ║ └╥┘┌─┐   \n",
            "q144_6: ┤ H ├─╫──╫──╫──╫──╫──╫─┤M├───\n",
            "        ├───┤ ║  ║  ║  ║  ║  ║ └╥┘┌─┐\n",
            "q144_7: ┤ H ├─╫──╫──╫──╫──╫──╫──╫─┤M├\n",
            "        └───┘ ║  ║  ║  ║  ║  ║  ║ └╥┘\n",
            " c51: 8/══════╩══╩══╩══╩══╩══╩══╩══╩═\n",
            "              0  1  2  3  4  5  6  7 \n",
            "{'01011110': 1}\n"
          ]
        },
        {
          "name": "stderr",
          "output_type": "stream",
          "text": [
            "/tmp/ipykernel_5562/2241472293.py:22: DeprecationWarning: The function ``qiskit.execute_function.execute()`` is deprecated as of qiskit 0.46.0. It will be removed in the Qiskit 1.0 release. This function combines ``transpile`` and ``backend.run``, which is covered by ``Sampler`` :mod:`~qiskit.primitives`. Alternatively, you can also run :func:`.transpile` followed by ``backend.run()``.\n",
            "  job=qiskit.execute(qc0,backend,shots=1)\n"
          ]
        }
      ],
      "source": [
        "import qiskit\n",
        "from qiskit import QuantumCircuit, QuantumRegister, execute, Aer, IBMQ\n",
        "from qiskit.visualization import plot_bloch_multivector\n",
        "from qiskit.quantum_info import Statevector\n",
        "\n",
        "# Modifique el siguiente código para que mida como resultado un grupo de\n",
        "# 8 bits aleatorio. Algo como {'10100100': 1}\n",
        "\n",
        "qr0 = qiskit.QuantumRegister(8)\n",
        "cr0 = qiskit.ClassicalRegister(8)\n",
        "qc0 = qiskit.QuantumCircuit(cr0, qr0)\n",
        "\n",
        "# hint: qc0.h(#)\n",
        "\n",
        "for i in range(0,8):\n",
        "    qc0.h(i)\n",
        "\n",
        "qc0.measure(qr0, cr0)\n",
        "print(qc0.draw())\n",
        "\n",
        "backend = Aer.get_backend('aer_simulator')\n",
        "job=qiskit.execute(qc0,backend,shots=1)\n",
        "result=job.result()\n",
        "counts=result.get_counts(qc0)\n",
        "print(counts)"
      ]
    }
  ],
  "metadata": {
    "colab": {
      "provenance": []
    },
    "kernelspec": {
      "display_name": "Python 3",
      "language": "python",
      "name": "python3"
    },
    "language_info": {
      "codemirror_mode": {
        "name": "ipython",
        "version": 3
      },
      "file_extension": ".py",
      "mimetype": "text/x-python",
      "name": "python",
      "nbconvert_exporter": "python",
      "pygments_lexer": "ipython3",
      "version": "3.12.3"
    }
  },
  "nbformat": 4,
  "nbformat_minor": 0
}
