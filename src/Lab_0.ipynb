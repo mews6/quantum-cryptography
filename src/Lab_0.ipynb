{
  "cells": [
    {
      "cell_type": "code",
      "execution_count": null,
      "metadata": {
        "colab": {
          "base_uri": "https://localhost:8080/"
        },
        "id": "CodJYqS68xZc",
        "outputId": "72593803-05b4-4fa1-b465-47b8315c6265"
      },
      "outputs": [
        {
          "output_type": "stream",
          "name": "stdout",
          "text": [
            "Requirement already satisfied: qiskit==0.46.2 in /usr/local/lib/python3.10/dist-packages (0.46.2)\n",
            "Requirement already satisfied: qiskit-terra==0.46.2 in /usr/local/lib/python3.10/dist-packages (from qiskit==0.46.2) (0.46.2)\n",
            "Requirement already satisfied: rustworkx>=0.13.0 in /usr/local/lib/python3.10/dist-packages (from qiskit-terra==0.46.2->qiskit==0.46.2) (0.15.1)\n",
            "Requirement already satisfied: numpy<3,>=1.17 in /usr/local/lib/python3.10/dist-packages (from qiskit-terra==0.46.2->qiskit==0.46.2) (1.26.4)\n",
            "Requirement already satisfied: ply>=3.10 in /usr/local/lib/python3.10/dist-packages (from qiskit-terra==0.46.2->qiskit==0.46.2) (3.11)\n",
            "Requirement already satisfied: psutil>=5 in /usr/local/lib/python3.10/dist-packages (from qiskit-terra==0.46.2->qiskit==0.46.2) (5.9.5)\n",
            "Requirement already satisfied: scipy>=1.5 in /usr/local/lib/python3.10/dist-packages (from qiskit-terra==0.46.2->qiskit==0.46.2) (1.13.1)\n",
            "Requirement already satisfied: sympy>=1.3 in /usr/local/lib/python3.10/dist-packages (from qiskit-terra==0.46.2->qiskit==0.46.2) (1.13.1)\n",
            "Requirement already satisfied: dill>=0.3 in /usr/local/lib/python3.10/dist-packages (from qiskit-terra==0.46.2->qiskit==0.46.2) (0.3.8)\n",
            "Requirement already satisfied: python-dateutil>=2.8.0 in /usr/local/lib/python3.10/dist-packages (from qiskit-terra==0.46.2->qiskit==0.46.2) (2.8.2)\n",
            "Requirement already satisfied: stevedore>=3.0.0 in /usr/local/lib/python3.10/dist-packages (from qiskit-terra==0.46.2->qiskit==0.46.2) (5.2.0)\n",
            "Requirement already satisfied: symengine>=0.11 in /usr/local/lib/python3.10/dist-packages (from qiskit-terra==0.46.2->qiskit==0.46.2) (0.11.0)\n",
            "Requirement already satisfied: typing-extensions in /usr/local/lib/python3.10/dist-packages (from qiskit-terra==0.46.2->qiskit==0.46.2) (4.12.2)\n",
            "Requirement already satisfied: six>=1.5 in /usr/local/lib/python3.10/dist-packages (from python-dateutil>=2.8.0->qiskit-terra==0.46.2->qiskit==0.46.2) (1.16.0)\n",
            "Requirement already satisfied: pbr!=2.1.0,>=2.0.0 in /usr/local/lib/python3.10/dist-packages (from stevedore>=3.0.0->qiskit-terra==0.46.2->qiskit==0.46.2) (6.0.0)\n",
            "Requirement already satisfied: mpmath<1.4,>=1.1.0 in /usr/local/lib/python3.10/dist-packages (from sympy>=1.3->qiskit-terra==0.46.2->qiskit==0.46.2) (1.3.0)\n",
            "Requirement already satisfied: qiskit-aer in /usr/local/lib/python3.10/dist-packages (0.14.2)\n",
            "Requirement already satisfied: qiskit>=0.45.2 in /usr/local/lib/python3.10/dist-packages (from qiskit-aer) (0.46.2)\n",
            "Requirement already satisfied: numpy>=1.16.3 in /usr/local/lib/python3.10/dist-packages (from qiskit-aer) (1.26.4)\n",
            "Requirement already satisfied: scipy>=1.0 in /usr/local/lib/python3.10/dist-packages (from qiskit-aer) (1.13.1)\n",
            "Requirement already satisfied: psutil>=5 in /usr/local/lib/python3.10/dist-packages (from qiskit-aer) (5.9.5)\n",
            "Requirement already satisfied: qiskit-terra==0.46.2 in /usr/local/lib/python3.10/dist-packages (from qiskit>=0.45.2->qiskit-aer) (0.46.2)\n",
            "Requirement already satisfied: rustworkx>=0.13.0 in /usr/local/lib/python3.10/dist-packages (from qiskit-terra==0.46.2->qiskit>=0.45.2->qiskit-aer) (0.15.1)\n",
            "Requirement already satisfied: ply>=3.10 in /usr/local/lib/python3.10/dist-packages (from qiskit-terra==0.46.2->qiskit>=0.45.2->qiskit-aer) (3.11)\n",
            "Requirement already satisfied: sympy>=1.3 in /usr/local/lib/python3.10/dist-packages (from qiskit-terra==0.46.2->qiskit>=0.45.2->qiskit-aer) (1.13.1)\n",
            "Requirement already satisfied: dill>=0.3 in /usr/local/lib/python3.10/dist-packages (from qiskit-terra==0.46.2->qiskit>=0.45.2->qiskit-aer) (0.3.8)\n",
            "Requirement already satisfied: python-dateutil>=2.8.0 in /usr/local/lib/python3.10/dist-packages (from qiskit-terra==0.46.2->qiskit>=0.45.2->qiskit-aer) (2.8.2)\n",
            "Requirement already satisfied: stevedore>=3.0.0 in /usr/local/lib/python3.10/dist-packages (from qiskit-terra==0.46.2->qiskit>=0.45.2->qiskit-aer) (5.2.0)\n",
            "Requirement already satisfied: symengine>=0.11 in /usr/local/lib/python3.10/dist-packages (from qiskit-terra==0.46.2->qiskit>=0.45.2->qiskit-aer) (0.11.0)\n",
            "Requirement already satisfied: typing-extensions in /usr/local/lib/python3.10/dist-packages (from qiskit-terra==0.46.2->qiskit>=0.45.2->qiskit-aer) (4.12.2)\n",
            "Requirement already satisfied: six>=1.5 in /usr/local/lib/python3.10/dist-packages (from python-dateutil>=2.8.0->qiskit-terra==0.46.2->qiskit>=0.45.2->qiskit-aer) (1.16.0)\n",
            "Requirement already satisfied: pbr!=2.1.0,>=2.0.0 in /usr/local/lib/python3.10/dist-packages (from stevedore>=3.0.0->qiskit-terra==0.46.2->qiskit>=0.45.2->qiskit-aer) (6.0.0)\n",
            "Requirement already satisfied: mpmath<1.4,>=1.1.0 in /usr/local/lib/python3.10/dist-packages (from sympy>=1.3->qiskit-terra==0.46.2->qiskit>=0.45.2->qiskit-aer) (1.3.0)\n",
            "0.46.2\n"
          ]
        }
      ],
      "source": [
        "!pip install qiskit==0.46.2\n",
        "!pip install qiskit-aer\n",
        "import qiskit\n",
        "print(qiskit.__version__)"
      ]
    },
    {
      "cell_type": "code",
      "execution_count": null,
      "metadata": {
        "colab": {
          "base_uri": "https://localhost:8080/"
        },
        "id": "caTRBY7JU3if",
        "outputId": "ac6e7346-5ee0-4f71-f1a1-be63ac220ec7"
      },
      "outputs": [
        {
          "output_type": "stream",
          "name": "stdout",
          "text": [
            "       ┌───┐┌─┐                     \n",
            "q19_0: ┤ H ├┤M├─────────────────────\n",
            "       ├───┤└╥┘┌─┐                  \n",
            "q19_1: ┤ H ├─╫─┤M├──────────────────\n",
            "       ├───┤ ║ └╥┘┌─┐               \n",
            "q19_2: ┤ H ├─╫──╫─┤M├───────────────\n",
            "       ├───┤ ║  ║ └╥┘┌─┐            \n",
            "q19_3: ┤ H ├─╫──╫──╫─┤M├────────────\n",
            "       ├───┤ ║  ║  ║ └╥┘┌─┐         \n",
            "q19_4: ┤ H ├─╫──╫──╫──╫─┤M├─────────\n",
            "       ├───┤ ║  ║  ║  ║ └╥┘┌─┐      \n",
            "q19_5: ┤ H ├─╫──╫──╫──╫──╫─┤M├──────\n",
            "       ├───┤ ║  ║  ║  ║  ║ └╥┘┌─┐   \n",
            "q19_6: ┤ H ├─╫──╫──╫──╫──╫──╫─┤M├───\n",
            "       ├───┤ ║  ║  ║  ║  ║  ║ └╥┘┌─┐\n",
            "q19_7: ┤ H ├─╫──╫──╫──╫──╫──╫──╫─┤M├\n",
            "       └───┘ ║  ║  ║  ║  ║  ║  ║ └╥┘\n",
            "c14: 8/══════╩══╩══╩══╩══╩══╩══╩══╩═\n",
            "             0  1  2  3  4  5  6  7 \n",
            "       ┌───┐                     ┌─┐\n",
            "q19_0: ┤ H ├─────────────────────┤M├\n",
            "       ├───┤                  ┌─┐└╥┘\n",
            "q19_1: ┤ H ├──────────────────┤M├─╫─\n",
            "       ├───┤               ┌─┐└╥┘ ║ \n",
            "q19_2: ┤ H ├───────────────┤M├─╫──╫─\n",
            "       ├───┤            ┌─┐└╥┘ ║  ║ \n",
            "q19_3: ┤ H ├────────────┤M├─╫──╫──╫─\n",
            "       ├───┤         ┌─┐└╥┘ ║  ║  ║ \n",
            "q19_4: ┤ H ├─────────┤M├─╫──╫──╫──╫─\n",
            "       ├───┤      ┌─┐└╥┘ ║  ║  ║  ║ \n",
            "q19_5: ┤ H ├──────┤M├─╫──╫──╫──╫──╫─\n",
            "       ├───┤   ┌─┐└╥┘ ║  ║  ║  ║  ║ \n",
            "q19_6: ┤ H ├───┤M├─╫──╫──╫──╫──╫──╫─\n",
            "       ├───┤┌─┐└╥┘ ║  ║  ║  ║  ║  ║ \n",
            "q19_7: ┤ H ├┤M├─╫──╫──╫──╫──╫──╫──╫─\n",
            "       └───┘└╥┘ ║  ║  ║  ║  ║  ║  ║ \n",
            "c14: 8/══════╩══╩══╩══╩══╩══╩══╩══╩═\n",
            "             7  6  5  4  3  2  1  0 \n",
            "{'11100000': 1}\n"
          ]
        },
        {
          "output_type": "stream",
          "name": "stderr",
          "text": [
            "<ipython-input-23-b666c7bef1fe>:28: DeprecationWarning: The function ``qiskit.execute_function.execute()`` is deprecated as of qiskit 0.46.0. It will be removed in the Qiskit 1.0 release. This function combines ``transpile`` and ``backend.run``, which is covered by ``Sampler`` :mod:`~qiskit.primitives`. Alternatively, you can also run :func:`.transpile` followed by ``backend.run()``.\n",
            "  job=qiskit.execute(qc0,backend,shots=1)\n"
          ]
        }
      ],
      "source": [
        "import qiskit\n",
        "from qiskit import QuantumCircuit, QuantumRegister, execute, Aer, IBMQ\n",
        "from qiskit.visualization import plot_bloch_multivector\n",
        "from qiskit.quantum_info import Statevector\n",
        "\n",
        "# Modifique el siguiente código para que mida como resultado un grupo de\n",
        "# 8 bits aleatorio. Algo como {'10100100': 1}\n",
        "\n",
        "qr0 = qiskit.QuantumRegister(#)\n",
        "cr0 = qiskit.ClassicalRegister(#)\n",
        "qc0 = qiskit.QuantumCircuit(#, #)\n",
        "\n",
        "# hint: qc0.h(#)\n",
        "\n",
        "qc0.measure(qr0, cr0)\n",
        "print(qc0.draw())\n",
        "\n",
        "backend = Aer.get_backend('aer_simulator')\n",
        "job=qiskit.execute(qc0,backend,shots=1)\n",
        "result=job.result()\n",
        "counts=result.get_counts(qc0)\n",
        "print(counts)"
      ]
    }
  ],
  "metadata": {
    "colab": {
      "provenance": []
    },
    "kernelspec": {
      "display_name": "Python 3",
      "language": "python",
      "name": "python3"
    },
    "language_info": {
      "codemirror_mode": {
        "name": "ipython",
        "version": 3
      },
      "file_extension": ".py",
      "mimetype": "text/x-python",
      "name": "python",
      "nbconvert_exporter": "python",
      "pygments_lexer": "ipython3",
      "version": "3.7.4"
    }
  },
  "nbformat": 4,
  "nbformat_minor": 0
}